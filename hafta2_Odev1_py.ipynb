{
 "cells": [
  {
   "cell_type": "code",
   "execution_count": 20,
   "id": "a2013f06",
   "metadata": {},
   "outputs": [],
   "source": [
    "students = []\n",
    "\n",
    "def getFullName(firstName, lastName):\n",
    "  return f'{firstName} {lastName}'\n",
    "\n",
    "def addStudent(firstName, lastName):\n",
    "  students.append(getFullName(firstName, lastName))\n",
    "\n",
    "def removeStudent(firstName, lastName):\n",
    "  searchValue = getFullName(firstName, lastName)\n",
    "  isFound = False\n",
    "  \n",
    "  for i in students: \n",
    "    if searchValue == i:\n",
    "      isFound = True\n",
    "      students.remove(i)\n",
    "      break\n",
    "\n",
    "  if not isFound: print(\"This student not found\")\n",
    "\n",
    "def addStudentList(studentList):\n",
    "  if isinstance(studentList, list):\n",
    "    students.extend(studentList)\n",
    "  else: \n",
    "    print(\"Please enter correct type parameter\")\n",
    "\n",
    "def showStudent():\n",
    "  i = 0\n",
    "  print(\"\\n*****************\")\n",
    "  while i < len(students):\n",
    "    print(students[i])\n",
    "    i += 1\n",
    "  print(\"******************\\n\")\n",
    "\n",
    "def getStudentNumber(firstName, lastName):\n",
    "  searchValue = getFullName(firstName, lastName)\n",
    "  isFound = False\n",
    "\n",
    "  for i in range(len(students)):\n",
    "    if students[i] == searchValue:\n",
    "      isFound = True\n",
    "      return i\n",
    "\n",
    "  if not isFound: \n",
    "    print(\"This student not found\")\n",
    "    return -1\n",
    "\n",
    "def removeStudentFromNumber(studentNumbers):\n",
    "  if isinstance(studentNumbers, list):\n",
    "    studentNumbers.sort(reverse = True)\n",
    "    for i in studentNumbers:\n",
    "      if not isinstance(i, int) or i > len(students) - 1: \n",
    "        print(\"Please enter correct number list\")\n",
    "        return\n",
    "      students.pop(i)\n",
    "  else:\n",
    "    print(\"Please enter correct type parameter\")"
   ]
  },
  {
   "cell_type": "code",
   "execution_count": 21,
   "id": "927350da",
   "metadata": {},
   "outputs": [
    {
     "name": "stdout",
     "output_type": "stream",
     "text": [
      "\n",
      "*****************\n",
      "Ceyda Önal\n",
      "******************\n",
      "\n"
     ]
    }
   ],
   "source": [
    "addStudent('Ceyda','Önal')\n",
    "showStudent()"
   ]
  },
  {
   "cell_type": "code",
   "execution_count": 22,
   "id": "f1ce1874",
   "metadata": {},
   "outputs": [
    {
     "name": "stdout",
     "output_type": "stream",
     "text": [
      "Please enter correct type parameter\n"
     ]
    }
   ],
   "source": [
    "addStudentList(\"abc\")"
   ]
  },
  {
   "cell_type": "code",
   "execution_count": 23,
   "id": "09c8443c",
   "metadata": {},
   "outputs": [
    {
     "name": "stdout",
     "output_type": "stream",
     "text": [
      "\n",
      "*****************\n",
      "Ceyda Önal\n",
      "Buğra Önal\n",
      "Hüseyin Önal\n",
      "Mustafa Önal\n",
      "******************\n",
      "\n"
     ]
    }
   ],
   "source": [
    "addStudentList([\"Buğra Önal\", \"Hüseyin Önal\", \"Mustafa Önal\"])\n",
    "showStudent()"
   ]
  },
  {
   "cell_type": "code",
   "execution_count": 24,
   "id": "c148046a",
   "metadata": {},
   "outputs": [
    {
     "name": "stdout",
     "output_type": "stream",
     "text": [
      "\n",
      "*****************\n",
      "Ceyda Önal\n",
      "Buğra Önal\n",
      "Hüseyin Önal\n",
      "******************\n",
      "\n"
     ]
    }
   ],
   "source": [
    "removeStudent(\"Mustafa\", \"Önal\")\n",
    "showStudent()"
   ]
  },
  {
   "cell_type": "code",
   "execution_count": 25,
   "id": "6bd7cd11",
   "metadata": {},
   "outputs": [
    {
     "name": "stdout",
     "output_type": "stream",
     "text": [
      "student number: 0\n",
      "Please enter correct type parameter\n",
      "\n",
      "*****************\n",
      "Ceyda Önal\n",
      "Buğra Önal\n",
      "Hüseyin Önal\n",
      "******************\n",
      "\n"
     ]
    }
   ],
   "source": [
    "print(f'student number: {getStudentNumber(\"Ceyda\", \"Önal\")}')\n",
    "removeStudentFromNumber(1)\n",
    "showStudent()"
   ]
  },
  {
   "cell_type": "code",
   "execution_count": 26,
   "id": "f1a90176",
   "metadata": {},
   "outputs": [
    {
     "name": "stdout",
     "output_type": "stream",
     "text": [
      "Please enter correct number list\n",
      "\n",
      "*****************\n",
      "Ceyda Önal\n",
      "Buğra Önal\n",
      "Hüseyin Önal\n",
      "******************\n",
      "\n"
     ]
    }
   ],
   "source": [
    "removeStudentFromNumber([5])\n",
    "showStudent()"
   ]
  },
  {
   "cell_type": "code",
   "execution_count": 27,
   "id": "59193d94",
   "metadata": {},
   "outputs": [
    {
     "name": "stdout",
     "output_type": "stream",
     "text": [
      "\n",
      "*****************\n",
      "Hüseyin Önal\n",
      "******************\n",
      "\n"
     ]
    }
   ],
   "source": [
    "removeStudentFromNumber([0, 1])\n",
    "showStudent()"
   ]
  }
 ],
 "metadata": {
  "kernelspec": {
   "display_name": "Python 3 (ipykernel)",
   "language": "python",
   "name": "python3"
  },
  "language_info": {
   "codemirror_mode": {
    "name": "ipython",
    "version": 3
   },
   "file_extension": ".py",
   "mimetype": "text/x-python",
   "name": "python",
   "nbconvert_exporter": "python",
   "pygments_lexer": "ipython3",
   "version": "3.9.12"
  }
 },
 "nbformat": 4,
 "nbformat_minor": 5
}
