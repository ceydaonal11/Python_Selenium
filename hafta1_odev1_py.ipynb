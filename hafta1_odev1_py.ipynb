{
 "cells": [
  {
   "cell_type": "markdown",
   "id": "9ae03c81",
   "metadata": {},
   "source": [
    "# Python'da Veri Tipleri:\n",
    "1. **String:** Metinsel ifadelerdir\n",
    "2. **Integer:** Tam sayı\n",
    "3. **Boolean:** True or False\n",
    "4. **Float:** Ondalıklı veya kesirli sayılar\n",
    "5. **List:** Birden çok ögeyi tutan yapıdır \"[]\" kullanılır\n",
    "6. **Dictionary:** Key and Value çiftinden oluşan koleksiyonlardır.\"{}\"kullanılır.\n",
    "7. **Tuples:** List gibidir fakat bir kez tanımlandıktan sonra üzerinde değişiklik yapılamaz."
   ]
  },
  {
   "cell_type": "markdown",
   "id": "2db8f10d",
   "metadata": {},
   "source": [
    "# Kodlama.io sitesinde değişken olarak kullanıldığını düşündüğünüz verileri, veri tipleriyle birlikte örneklendiriniz.\n",
    "1. Kurs isimleri stringtir.\n",
    "2. kursların tamamlanma yüzdeleri integer.\n",
    "3. Kurslar ve kurslarım listedir.\n",
    "4. Şifre ve mail kontrolü bool."
   ]
  },
  {
   "cell_type": "code",
   "execution_count": 19,
   "id": "5ca2e55e",
   "metadata": {},
   "outputs": [
    {
     "name": "stdout",
     "output_type": "stream",
     "text": [
      "Please enter e-mail \n",
      "ceydaonal11@gmail.com\n",
      "Please type your password \n",
      "1234\n",
      "Welcome\n"
     ]
    }
   ],
   "source": [
    "#Kodlama.io sitesinde şart blokları kullanıldığını düşündüğünüz kısımları örneklendiriniz ve \n",
    "#Python dilinde bu örnekleri koda dökünüz.\n",
    "user_mail=\"ceydaonal11@gmail.com\"\n",
    "user_password= 1234\n",
    "\n",
    "get_mail=input(\"Please enter e-mail \\n\")\n",
    "get_password=int(input(\"Please type your password \\n\"))\n",
    "if user_mail==get_mail:\n",
    "    if user_password==get_password:\n",
    "        print(\"Welcome\")\n",
    "    else:\n",
    "        print(\"Enter valid password\")\n",
    "else:\n",
    "    print(\"Enter valid e-mail\")"
   ]
  },
  {
   "cell_type": "code",
   "execution_count": null,
   "id": "963a7052",
   "metadata": {},
   "outputs": [],
   "source": []
  }
 ],
 "metadata": {
  "kernelspec": {
   "display_name": "Python 3 (ipykernel)",
   "language": "python",
   "name": "python3"
  },
  "language_info": {
   "codemirror_mode": {
    "name": "ipython",
    "version": 3
   },
   "file_extension": ".py",
   "mimetype": "text/x-python",
   "name": "python",
   "nbconvert_exporter": "python",
   "pygments_lexer": "ipython3",
   "version": "3.9.12"
  }
 },
 "nbformat": 4,
 "nbformat_minor": 5
}
